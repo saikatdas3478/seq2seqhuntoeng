{
 "cells": [
  {
   "cell_type": "code",
   "execution_count": 4,
   "metadata": {},
   "outputs": [],
   "source": [
    "import numpy as np\n",
    "import random\n",
    "import pandas as pd\n",
    "import io\n",
    "import json\n",
    "import urllib\n",
    "import re\n",
    "import unicodedata\n",
    "from keras.models import load_model\n",
    "from keras.preprocessing.text import Tokenizer\n",
    "from keras.layers import LSTM, Dense, Embedding, Input\n",
    "from keras import Model\n",
    "from keras.utils import plot_model, pad_sequences\n",
    "from keras.callbacks import ModelCheckpoint, EarlyStopping\n",
    "from keras.preprocessing.text import tokenizer_from_json"
   ]
  },
  {
   "cell_type": "code",
   "execution_count": 5,
   "metadata": {},
   "outputs": [
    {
     "data": {
      "text/plain": [
       "('hun_eng_train.txt', <http.client.HTTPMessage at 0x27946071e10>)"
      ]
     },
     "execution_count": 5,
     "metadata": {},
     "output_type": "execute_result"
    }
   ],
   "source": [
    "url = 'https://raw.githubusercontent.com/futuremojo/nlp-demystified/main/datasets/hun_eng_pairs/hun_eng_pairs_train.txt'\n",
    "urllib.request.urlretrieve(url, 'hun_eng_train.txt')"
   ]
  },
  {
   "cell_type": "code",
   "execution_count": 6,
   "metadata": {},
   "outputs": [
    {
     "name": "stdout",
     "output_type": "stream",
     "text": [
      "[\"Teszek rá, mit mondasz!<sep>I don't care what you say.\", 'Több olyan ember kell nekünk a csapatba, mint amilyen te vagy.<sep>We need more people like you on our team.', 'Vigyázz a gyerekeimre!<sep>Take care of my children.', 'Miért van szüksége önöknek két kerékpárra?<sep>Why do you need two bicycles?']\n"
     ]
    }
   ],
   "source": [
    "with open('hun_eng_train.txt', encoding = 'utf-8') as file:\n",
    "    hun_eng_train = [line.rstrip() for line in file]\n",
    "    \n",
    "print(hun_eng_train[:4])"
   ]
  },
  {
   "cell_type": "code",
   "execution_count": 7,
   "metadata": {},
   "outputs": [
    {
     "name": "stdout",
     "output_type": "stream",
     "text": [
      "['Teszek rá, mit mondasz!', 'Több olyan ember kell nekünk a csapatba, mint amilyen te vagy.', 'Vigyázz a gyerekeimre!']\n",
      "[\"I don't care what you say.\", 'We need more people like you on our team.', 'Take care of my children.']\n"
     ]
    }
   ],
   "source": [
    "separator = '<sep>'\n",
    "\n",
    "train_input, train_target = map(list, zip(*[line.split(separator) for line in hun_eng_train]))\n",
    "\n",
    "print(train_input[:3])\n",
    "print(train_target[:3])"
   ]
  },
  {
   "cell_type": "code",
   "execution_count": 8,
   "metadata": {},
   "outputs": [],
   "source": [
    "def unicode_normalization(text):\n",
    "    return ''.join([word for word in unicodedata.normalize('NFD', text) \n",
    "                    if unicodedata.category(word) != 'Mn'])\n",
    "    \n",
    "    \n",
    "def text_preprocess(text):\n",
    "    text = unicode_normalization(text)\n",
    "    text = re.sub(r'([?.!,¿])', r' \\1 ', text)\n",
    "    text = re.sub('[\"  \"]+', \" \", text)\n",
    "    text = text.lower().strip()\n",
    "    \n",
    "    return text\n",
    "\n",
    "train_input_preprocessed = [text_preprocess(line) for line in train_input]\n",
    "train_target_preprocessed = [text_preprocess(line) for line in train_target]"
   ]
  },
  {
   "cell_type": "code",
   "execution_count": 9,
   "metadata": {},
   "outputs": [
    {
     "name": "stdout",
     "output_type": "stream",
     "text": [
      "['teszek ra , mit mondasz !', 'tobb olyan ember kell nekunk a csapatba , mint amilyen te vagy .', 'vigyazz a gyerekeimre !']\n",
      "[\"i don't care what you say .\", 'we need more people like you on our team .', 'take care of my children .']\n"
     ]
    }
   ],
   "source": [
    "print(train_input_preprocessed[:3])\n",
    "print(train_target_preprocessed[:3])"
   ]
  },
  {
   "cell_type": "code",
   "execution_count": 10,
   "metadata": {},
   "outputs": [],
   "source": [
    "def target_tagging(text):\n",
    "    return list(map(lambda x: '<sos> ' + x + ' <eos>', text))\n",
    "\n",
    "train_target_tagged = target_tagging(train_target_preprocessed)"
   ]
  },
  {
   "cell_type": "code",
   "execution_count": 11,
   "metadata": {},
   "outputs": [
    {
     "name": "stdout",
     "output_type": "stream",
     "text": [
      "[\"<sos> i don't care what you say . <eos>\", '<sos> we need more people like you on our team . <eos>', '<sos> take care of my children . <eos>']\n"
     ]
    }
   ],
   "source": [
    "print(train_target_tagged[:3])"
   ]
  },
  {
   "cell_type": "code",
   "execution_count": 12,
   "metadata": {},
   "outputs": [
    {
     "name": "stdout",
     "output_type": "stream",
     "text": [
      "38539\n",
      "10556\n"
     ]
    }
   ],
   "source": [
    "hun_tokenizer = Tokenizer(oov_token= '<unk>', filters='\"#$%&()*+-/:;=@[\\\\]^_`{|}~\\t\\n')\n",
    "hun_tokenizer.fit_on_texts(train_input_preprocessed)\n",
    "hun_vocab_size = len(hun_tokenizer.word_index) + 1\n",
    "print(hun_vocab_size)\n",
    "\n",
    "eng_tokenizer = Tokenizer(oov_token='<unk>', filters = '\"#$%&()*+-/:;=@[\\\\]^_`{|}~\\t\\n')\n",
    "eng_tokenizer.fit_on_texts(train_target_tagged)\n",
    "eng_vocab_size = len(eng_tokenizer.word_index) + 1\n",
    "print(eng_vocab_size)"
   ]
  },
  {
   "cell_type": "code",
   "execution_count": 13,
   "metadata": {},
   "outputs": [],
   "source": [
    "def decoder_input_target_generator(tokenizer, sentences):\n",
    "    seqs = tokenizer.texts_to_sequences(sentences)\n",
    "    decoder_inputs = [seq[:-1] for seq in seqs]\n",
    "    decoder_outputs = [seq[1:] for seq in seqs]\n",
    "    \n",
    "    return decoder_inputs, decoder_outputs\n",
    "\n",
    "encoder_inputs = hun_tokenizer.texts_to_sequences(train_input_preprocessed)\n",
    "decoder_inputs, decoder_outputs = decoder_input_target_generator(eng_tokenizer, train_target_tagged)\n"
   ]
  },
  {
   "cell_type": "code",
   "execution_count": 14,
   "metadata": {},
   "outputs": [
    {
     "name": "stdout",
     "output_type": "stream",
     "text": [
      "37\n",
      "34\n",
      "34\n"
     ]
    }
   ],
   "source": [
    "max_encoder_input_len = max([len(lis) for lis in encoder_inputs])\n",
    "max_decoder_input_len = max([len(lis) for lis in decoder_inputs])\n",
    "max_decoder_output_len = max([len(lis) for lis in decoder_outputs])\n",
    "\n",
    "print(max_encoder_input_len)\n",
    "print(max_decoder_input_len)\n",
    "print(max_decoder_output_len)"
   ]
  },
  {
   "cell_type": "code",
   "execution_count": 15,
   "metadata": {},
   "outputs": [
    {
     "name": "stdout",
     "output_type": "stream",
     "text": [
      "[ 153   56  145   17  152    3 7232    4   45 1670   44   23    2    0\n",
      "    0    0    0    0    0    0    0    0    0    0    0    0    0    0\n",
      "    0    0    0    0    0    0    0    0    0]\n",
      "[  2  25  55 117 144  33   7  35 139 794   4   0   0   0   0   0   0   0\n",
      "   0   0   0   0   0   0   0   0   0   0   0   0   0   0   0   0]\n",
      "[ 25  55 117 144  33   7  35 139 794   4   3   0   0   0   0   0   0   0\n",
      "   0   0   0   0   0   0   0   0   0   0   0   0   0   0   0   0]\n"
     ]
    }
   ],
   "source": [
    "encoder_inputs_padded = pad_sequences(encoder_inputs, maxlen = max_encoder_input_len, padding = 'post', truncating='post')\n",
    "decoder_inputs_padded = pad_sequences(decoder_inputs, maxlen = max_decoder_input_len, padding = 'post', truncating='post')\n",
    "decoder_outputs_padded = pad_sequences(decoder_outputs, maxlen = max_decoder_output_len, padding = 'post', truncating='post')\n",
    "\n",
    "print(encoder_inputs_padded[1])\n",
    "print(decoder_inputs_padded[1])\n",
    "print(decoder_outputs_padded[1])"
   ]
  },
  {
   "cell_type": "code",
   "execution_count": 16,
   "metadata": {},
   "outputs": [
    {
     "name": "stdout",
     "output_type": "stream",
     "text": [
      "['Abbahagyhatom, ha zavar.<sep>If it bothers you, I can stop doing this.', 'Nős voltam.<sep>I was married.', 'Ez a zene az idegeire megy.<sep>That music gets on his nerves.']\n"
     ]
    }
   ],
   "source": [
    "url = 'https://raw.githubusercontent.com/futuremojo/nlp-demystified/main/datasets/hun_eng_pairs/hun_eng_pairs_val.txt'\n",
    "urllib.request.urlretrieve(url, 'hun_eng_test.txt')\n",
    "\n",
    "with open('hun_eng_test.txt', encoding = 'utf-8') as file:\n",
    "    hun_eng_test = [line.rstrip() for line in file]\n",
    "    \n",
    "print(hun_eng_test[:3])"
   ]
  },
  {
   "cell_type": "code",
   "execution_count": 17,
   "metadata": {},
   "outputs": [],
   "source": [
    "def test_data_generator(sentence_list):\n",
    "    \n",
    "    test_input, test_target = map(list, zip(*[sentence.split('<sep>') for sentence in sentence_list]))\n",
    "    \n",
    "    test_preprocessed_input = [text_preprocess(sentence) for sentence in test_input]\n",
    "    test_preprocessed_target = [text_preprocess(sentence) for sentence in test_target]\n",
    "    \n",
    "    test_tagged_target = target_tagging(test_preprocessed_target)\n",
    "    \n",
    "    test_encoder_input = hun_tokenizer.texts_to_sequences(test_preprocessed_input)\n",
    "    test_decoder_input, test_decoder_output = decoder_input_target_generator(eng_tokenizer, test_tagged_target)\n",
    "    \n",
    "    test_encoder_padded_input = pad_sequences(test_encoder_input, maxlen = max_encoder_input_len, padding = 'post', truncating= 'post')\n",
    "    test_decoder_padded_input = pad_sequences(test_decoder_input, maxlen = max_decoder_input_len, padding = 'post', truncating= 'post')\n",
    "    test_decoder_padded_output = pad_sequences(test_decoder_output, maxlen = max_decoder_input_len, padding = 'post', truncating= 'post')\n",
    "    \n",
    "    return test_encoder_padded_input, test_decoder_padded_input, test_decoder_padded_output\n",
    "\n",
    "\n",
    "\n",
    "test_encoder_padded_input, test_decoder_padded_input, test_decoder_padded_output = test_data_generator(hun_eng_test)"
   ]
  },
  {
   "cell_type": "code",
   "execution_count": 18,
   "metadata": {},
   "outputs": [
    {
     "name": "stdout",
     "output_type": "stream",
     "text": [
      "[1056   74    2    0    0    0    0    0    0    0    0    0    0    0\n",
      "    0    0    0    0    0    0    0    0    0    0    0    0    0    0\n",
      "    0    0    0    0    0    0    0    0    0]\n",
      "[  2   5  21 302   4   0   0   0   0   0   0   0   0   0   0   0   0   0\n",
      "   0   0   0   0   0   0   0   0   0   0   0   0   0   0   0   0]\n",
      "[  5  21 302   4   3   0   0   0   0   0   0   0   0   0   0   0   0   0\n",
      "   0   0   0   0   0   0   0   0   0   0   0   0   0   0   0   0]\n"
     ]
    }
   ],
   "source": [
    "print(test_encoder_padded_input[1])\n",
    "print(test_decoder_padded_input[1])\n",
    "print(test_decoder_padded_output[1])"
   ]
  },
  {
   "cell_type": "code",
   "execution_count": 17,
   "metadata": {},
   "outputs": [],
   "source": [
    "output_dim = 128\n",
    "lstm_dim = 256\n",
    "dropout = 0.2\n",
    "batchsize = 32\n",
    "epochs = 30\n",
    "\n",
    "\n",
    "\n",
    "encoder_input_layer = Input(shape = [None], name = 'encoder_input_layer')\n",
    "\n",
    "encoder_embedding_layer = Embedding(input_dim= hun_vocab_size,\n",
    "                                    output_dim = output_dim,\n",
    "                                    mask_zero=True,\n",
    "                                    name = 'encoder_embedding_layer')\n",
    "\n",
    "encoder_embedding_outputs = encoder_embedding_layer(encoder_input_layer)\n",
    "\n",
    "encoder_lstm_layer = LSTM(units = lstm_dim,\n",
    "                          return_state=True,\n",
    "                          dropout = dropout,\n",
    "                          name = 'encoder_lstm_layer')\n",
    "\n",
    "encoder_output, state_h, state_c = encoder_lstm_layer(encoder_embedding_outputs)\n",
    "\n",
    "encoder_state = (state_h, state_c)"
   ]
  },
  {
   "cell_type": "code",
   "execution_count": 18,
   "metadata": {},
   "outputs": [],
   "source": [
    "decoder_input_layer = Input(shape=[None], name = 'decoder_input_layer')\n",
    "\n",
    "decoder_embedding_layer = Embedding(input_dim = eng_vocab_size,\n",
    "                                    output_dim = output_dim,\n",
    "                                    mask_zero = True,\n",
    "                                    name = 'decoder_embedding_layer')\n",
    "\n",
    "decoder_embedding_output = decoder_embedding_layer(decoder_input_layer)\n",
    "\n",
    "decoder_lstm_layer = LSTM(units = lstm_dim,\n",
    "                          return_sequences= True,\n",
    "                          return_state = True,\n",
    "                          dropout = dropout,\n",
    "                          name = 'decoder_lstm_layer')\n",
    "\n",
    "decoder_output, _, _ = decoder_lstm_layer(decoder_embedding_output, initial_state = encoder_state)\n",
    "\n",
    "decoder_dense_layer = Dense(units = eng_vocab_size, \n",
    "                            activation= 'softmax',\n",
    "                            name = 'decoder_dense_layer')\n",
    "\n",
    "decoder_prob_output = decoder_dense_layer(decoder_output)"
   ]
  },
  {
   "cell_type": "code",
   "execution_count": 19,
   "metadata": {},
   "outputs": [
    {
     "name": "stdout",
     "output_type": "stream",
     "text": [
      "Model: \"hun_eng_translator\"\n",
      "__________________________________________________________________________________________________\n",
      " Layer (type)                Output Shape                 Param #   Connected to                  \n",
      "==================================================================================================\n",
      " encoder_input_layer (Input  [(None, None)]               0         []                            \n",
      " Layer)                                                                                           \n",
      "                                                                                                  \n",
      " decoder_input_layer (Input  [(None, None)]               0         []                            \n",
      " Layer)                                                                                           \n",
      "                                                                                                  \n",
      " encoder_embedding_layer (E  (None, None, 128)            4932992   ['encoder_input_layer[0][0]'] \n",
      " mbedding)                                                                                        \n",
      "                                                                                                  \n",
      " decoder_embedding_layer (E  (None, None, 128)            1351168   ['decoder_input_layer[0][0]'] \n",
      " mbedding)                                                                                        \n",
      "                                                                                                  \n",
      " encoder_lstm_layer (LSTM)   [(None, 256),                394240    ['encoder_embedding_layer[0][0\n",
      "                              (None, 256),                          ]']                           \n",
      "                              (None, 256)]                                                        \n",
      "                                                                                                  \n",
      " decoder_lstm_layer (LSTM)   [(None, None, 256),          394240    ['decoder_embedding_layer[0][0\n",
      "                              (None, 256),                          ]',                           \n",
      "                              (None, 256)]                           'encoder_lstm_layer[0][1]',  \n",
      "                                                                     'encoder_lstm_layer[0][2]']  \n",
      "                                                                                                  \n",
      " decoder_dense_layer (Dense  (None, None, 10556)          2712892   ['decoder_lstm_layer[0][0]']  \n",
      " )                                                                                                \n",
      "                                                                                                  \n",
      "==================================================================================================\n",
      "Total params: 9785532 (37.33 MB)\n",
      "Trainable params: 9785532 (37.33 MB)\n",
      "Non-trainable params: 0 (0.00 Byte)\n",
      "__________________________________________________________________________________________________\n"
     ]
    }
   ],
   "source": [
    "model = Model([encoder_input_layer, decoder_input_layer], decoder_prob_output, name = 'hun_eng_translator')\n",
    "\n",
    "model.compile(optimizer= 'adam', loss= 'sparse_categorical_crossentropy', metrics = 'sparse_categorical_accuracy')\n",
    "\n",
    "model.summary()"
   ]
  },
  {
   "cell_type": "code",
   "execution_count": 20,
   "metadata": {},
   "outputs": [
    {
     "data": {
      "image/png": "[encoded data removed]",
      "text/plain": [
       "<IPython.core.display.Image object>"
      ]
     },
     "execution_count": 20,
     "metadata": {},
     "output_type": "execute_result"
    }
   ],
   "source": [
    "plot_model(model, show_shapes = True, show_layer_names=True)"
   ]
  },
  {
   "cell_type": "code",
   "execution_count": 24,
   "metadata": {},
   "outputs": [
    {
     "name": "stdout",
     "output_type": "stream",
     "text": [
      "Epoch 1/30\n",
      "2771/2771 [==============================] - ETA: 0s - loss: 3.8745 - sparse_categorical_accuracy: 0.3750\n",
      "Epoch 1: saving model to cp.ckpt\n",
      "INFO:tensorflow:Assets written to: cp.ckpt\\assets\n"
     ]
    },
    {
     "name": "stderr",
     "output_type": "stream",
     "text": [
      "INFO:tensorflow:Assets written to: cp.ckpt\\assets\n"
     ]
    },
    {
     "name": "stdout",
     "output_type": "stream",
     "text": [
      "2771/2771 [==============================] - 710s 254ms/step - loss: 3.8745 - sparse_categorical_accuracy: 0.3750 - val_loss: 3.1365 - val_sparse_categorical_accuracy: 0.4567\n",
      "Epoch 2/30\n",
      "2771/2771 [==============================] - ETA: 0s - loss: 2.7761 - sparse_categorical_accuracy: 0.4968\n",
      "Epoch 2: saving model to cp.ckpt\n",
      "INFO:tensorflow:Assets written to: cp.ckpt\\assets\n"
     ]
    },
    {
     "name": "stderr",
     "output_type": "stream",
     "text": [
      "INFO:tensorflow:Assets written to: cp.ckpt\\assets\n"
     ]
    },
    {
     "name": "stdout",
     "output_type": "stream",
     "text": [
      "2771/2771 [==============================] - 680s 246ms/step - loss: 2.7761 - sparse_categorical_accuracy: 0.4968 - val_loss: 2.5711 - val_sparse_categorical_accuracy: 0.5319\n",
      "Epoch 3/30\n",
      "2771/2771 [==============================] - ETA: 0s - loss: 2.2272 - sparse_categorical_accuracy: 0.5646\n",
      "Epoch 3: saving model to cp.ckpt\n",
      "INFO:tensorflow:Assets written to: cp.ckpt\\assets\n"
     ]
    },
    {
     "name": "stderr",
     "output_type": "stream",
     "text": [
      "INFO:tensorflow:Assets written to: cp.ckpt\\assets\n"
     ]
    },
    {
     "name": "stdout",
     "output_type": "stream",
     "text": [
      "2771/2771 [==============================] - 736s 265ms/step - loss: 2.2272 - sparse_categorical_accuracy: 0.5646 - val_loss: 2.2790 - val_sparse_categorical_accuracy: 0.5727\n",
      "Epoch 4/30\n",
      "2771/2771 [==============================] - ETA: 0s - loss: 1.8349 - sparse_categorical_accuracy: 0.6191\n",
      "Epoch 4: saving model to cp.ckpt\n",
      "INFO:tensorflow:Assets written to: cp.ckpt\\assets\n"
     ]
    },
    {
     "name": "stderr",
     "output_type": "stream",
     "text": [
      "INFO:tensorflow:Assets written to: cp.ckpt\\assets\n"
     ]
    },
    {
     "name": "stdout",
     "output_type": "stream",
     "text": [
      "2771/2771 [==============================] - 777s 281ms/step - loss: 1.8349 - sparse_categorical_accuracy: 0.6191 - val_loss: 2.0857 - val_sparse_categorical_accuracy: 0.6072\n",
      "Epoch 5/30\n",
      "2771/2771 [==============================] - ETA: 0s - loss: 1.5316 - sparse_categorical_accuracy: 0.6660\n",
      "Epoch 5: saving model to cp.ckpt\n",
      "INFO:tensorflow:Assets written to: cp.ckpt\\assets\n"
     ]
    },
    {
     "name": "stderr",
     "output_type": "stream",
     "text": [
      "INFO:tensorflow:Assets written to: cp.ckpt\\assets\n"
     ]
    },
    {
     "name": "stdout",
     "output_type": "stream",
     "text": [
      "2771/2771 [==============================] - 785s 283ms/step - loss: 1.5316 - sparse_categorical_accuracy: 0.6660 - val_loss: 1.9732 - val_sparse_categorical_accuracy: 0.6289\n",
      "Epoch 6/30\n",
      "2771/2771 [==============================] - ETA: 0s - loss: 1.2935 - sparse_categorical_accuracy: 0.7055\n",
      "Epoch 6: saving model to cp.ckpt\n",
      "INFO:tensorflow:Assets written to: cp.ckpt\\assets\n"
     ]
    },
    {
     "name": "stderr",
     "output_type": "stream",
     "text": [
      "INFO:tensorflow:Assets written to: cp.ckpt\\assets\n"
     ]
    },
    {
     "name": "stdout",
     "output_type": "stream",
     "text": [
      "2771/2771 [==============================] - 760s 274ms/step - loss: 1.2935 - sparse_categorical_accuracy: 0.7055 - val_loss: 1.8986 - val_sparse_categorical_accuracy: 0.6448\n",
      "Epoch 7/30\n",
      "2771/2771 [==============================] - ETA: 0s - loss: 1.1064 - sparse_categorical_accuracy: 0.7398\n",
      "Epoch 7: saving model to cp.ckpt\n",
      "INFO:tensorflow:Assets written to: cp.ckpt\\assets\n"
     ]
    },
    {
     "name": "stderr",
     "output_type": "stream",
     "text": [
      "INFO:tensorflow:Assets written to: cp.ckpt\\assets\n"
     ]
    },
    {
     "name": "stdout",
     "output_type": "stream",
     "text": [
      "2771/2771 [==============================] - 783s 283ms/step - loss: 1.1064 - sparse_categorical_accuracy: 0.7398 - val_loss: 1.8522 - val_sparse_categorical_accuracy: 0.6594\n",
      "Epoch 8/30\n",
      "2771/2771 [==============================] - ETA: 0s - loss: 0.9574 - sparse_categorical_accuracy: 0.7679\n",
      "Epoch 8: saving model to cp.ckpt\n",
      "INFO:tensorflow:Assets written to: cp.ckpt\\assets\n"
     ]
    },
    {
     "name": "stderr",
     "output_type": "stream",
     "text": [
      "INFO:tensorflow:Assets written to: cp.ckpt\\assets\n"
     ]
    },
    {
     "name": "stdout",
     "output_type": "stream",
     "text": [
      "2771/2771 [==============================] - 761s 275ms/step - loss: 0.9574 - sparse_categorical_accuracy: 0.7679 - val_loss: 1.8340 - val_sparse_categorical_accuracy: 0.6673\n",
      "Epoch 9/30\n",
      "2771/2771 [==============================] - ETA: 0s - loss: 0.8370 - sparse_categorical_accuracy: 0.7925\n",
      "Epoch 9: saving model to cp.ckpt\n",
      "INFO:tensorflow:Assets written to: cp.ckpt\\assets\n"
     ]
    },
    {
     "name": "stderr",
     "output_type": "stream",
     "text": [
      "INFO:tensorflow:Assets written to: cp.ckpt\\assets\n"
     ]
    },
    {
     "name": "stdout",
     "output_type": "stream",
     "text": [
      "2771/2771 [==============================] - 821s 296ms/step - loss: 0.8370 - sparse_categorical_accuracy: 0.7925 - val_loss: 1.8310 - val_sparse_categorical_accuracy: 0.6737\n",
      "Epoch 10/30\n",
      "2771/2771 [==============================] - ETA: 0s - loss: 0.7419 - sparse_categorical_accuracy: 0.8129\n",
      "Epoch 10: saving model to cp.ckpt\n",
      "INFO:tensorflow:Assets written to: cp.ckpt\\assets\n"
     ]
    },
    {
     "name": "stderr",
     "output_type": "stream",
     "text": [
      "INFO:tensorflow:Assets written to: cp.ckpt\\assets\n"
     ]
    },
    {
     "name": "stdout",
     "output_type": "stream",
     "text": [
      "2771/2771 [==============================] - 891s 322ms/step - loss: 0.7419 - sparse_categorical_accuracy: 0.8129 - val_loss: 1.8292 - val_sparse_categorical_accuracy: 0.6772\n",
      "Epoch 11/30\n",
      "2771/2771 [==============================] - ETA: 0s - loss: 0.6629 - sparse_categorical_accuracy: 0.8302\n",
      "Epoch 11: saving model to cp.ckpt\n",
      "INFO:tensorflow:Assets written to: cp.ckpt\\assets\n"
     ]
    },
    {
     "name": "stderr",
     "output_type": "stream",
     "text": [
      "INFO:tensorflow:Assets written to: cp.ckpt\\assets\n"
     ]
    },
    {
     "name": "stdout",
     "output_type": "stream",
     "text": [
      "2771/2771 [==============================] - 1149s 415ms/step - loss: 0.6629 - sparse_categorical_accuracy: 0.8302 - val_loss: 1.8308 - val_sparse_categorical_accuracy: 0.6813\n",
      "Epoch 12/30\n",
      "2771/2771 [==============================] - ETA: 0s - loss: 0.5999 - sparse_categorical_accuracy: 0.8440\n",
      "Epoch 12: saving model to cp.ckpt\n",
      "INFO:tensorflow:Assets written to: cp.ckpt\\assets\n"
     ]
    },
    {
     "name": "stderr",
     "output_type": "stream",
     "text": [
      "INFO:tensorflow:Assets written to: cp.ckpt\\assets\n"
     ]
    },
    {
     "name": "stdout",
     "output_type": "stream",
     "text": [
      "2771/2771 [==============================] - 995s 359ms/step - loss: 0.5999 - sparse_categorical_accuracy: 0.8440 - val_loss: 1.8322 - val_sparse_categorical_accuracy: 0.6842\n",
      "Epoch 13/30\n",
      "2771/2771 [==============================] - ETA: 0s - loss: 0.5457 - sparse_categorical_accuracy: 0.8554\n",
      "Epoch 13: saving model to cp.ckpt\n",
      "INFO:tensorflow:Assets written to: cp.ckpt\\assets\n"
     ]
    },
    {
     "name": "stderr",
     "output_type": "stream",
     "text": [
      "INFO:tensorflow:Assets written to: cp.ckpt\\assets\n"
     ]
    },
    {
     "name": "stdout",
     "output_type": "stream",
     "text": [
      "2771/2771 [==============================] - 1110s 401ms/step - loss: 0.5457 - sparse_categorical_accuracy: 0.8554 - val_loss: 1.8603 - val_sparse_categorical_accuracy: 0.6846\n"
     ]
    },
    {
     "data": {
      "text/plain": [
       "<keras.src.callbacks.History at 0x1fac4cbf190>"
      ]
     },
     "execution_count": 24,
     "metadata": {},
     "output_type": "execute_result"
    }
   ],
   "source": [
    "path = 'cp.ckpt'\n",
    "\n",
    "cp_callback = ModelCheckpoint(path, monitor= 'val_loss', verbose = 1)\n",
    "\n",
    "es_callback = EarlyStopping(monitor= 'val_loss', patience=3)\n",
    "\n",
    "model.fit([encoder_inputs_padded, decoder_inputs_padded], decoder_outputs_padded,\n",
    "          callbacks=[cp_callback, es_callback],\n",
    "          validation_data= ([test_encoder_padded_input, test_decoder_padded_input], test_decoder_padded_output),\n",
    "          epochs= epochs,\n",
    "          batch_size=batchsize)"
   ]
  },
  {
   "cell_type": "code",
   "execution_count": 20,
   "metadata": {},
   "outputs": [],
   "source": [
    "#model.save('hun_eng_translator')\n",
    "model = load_model('hun_eng_translator')\n",
    "\n",
    "hun_tokenizer_json = hun_tokenizer.to_json()\n",
    "\n",
    "with io.open('hun_tokenizer_json.json', 'w', encoding = 'utf-8') as file:\n",
    "    file.write(json.dumps(hun_tokenizer_json, ensure_ascii = False))\n",
    "\n",
    "eng_tokenizer_json = eng_tokenizer.to_json()\n",
    "\n",
    "with io.open('eng_tokenizer_json.json', 'w', encoding = 'utf-8') as file:\n",
    "    file.write(json.dumps(eng_tokenizer_json, ensure_ascii = False))"
   ]
  },
  {
   "cell_type": "code",
   "execution_count": 21,
   "metadata": {},
   "outputs": [],
   "source": [
    "model_loaded = load_model('hun_eng_translator')\n",
    "\n",
    "with open('hun_tokenizer_json.json', 'r', encoding = 'utf-8') as file:\n",
    "   data = json.load(file)\n",
    "   hun_tokenizer = tokenizer_from_json(data)\n",
    "\n",
    "\n",
    "with open('eng_tokenizer_json.json', 'r', encoding = 'utf-8') as file:\n",
    "    data = json.load(file)\n",
    "    eng_tokenizer = tokenizer_from_json(data)"
   ]
  },
  {
   "cell_type": "code",
   "execution_count": 22,
   "metadata": {},
   "outputs": [],
   "source": [
    "model_layers = [layer.name for layer in model.layers]\n",
    "\n",
    "new_encoder_inputs = model.get_layer('encoder_input_layer').input\n",
    "new_encoder_embeddings_layer = model.get_layer('encoder_embedding_layer')\n",
    "\n",
    "new_encoder_embeddings = new_encoder_embeddings_layer(new_encoder_inputs)\n",
    "\n",
    "new_encoder_lstm_layer = model.get_layer('encoder_lstm_layer')\n",
    "\n",
    "_, new_encoder_state_h, new_encoder_state_c = new_encoder_lstm_layer(new_encoder_embeddings)\n",
    "\n",
    "new_encoder_state = [new_encoder_state_h, new_encoder_state_c]\n",
    "\n",
    "new_encoder_model = Model(new_encoder_inputs, new_encoder_state)"
   ]
  },
  {
   "cell_type": "code",
   "execution_count": 23,
   "metadata": {},
   "outputs": [
    {
     "data": {
      "image/png": "[encoded data removed]",
      "text/plain": [
       "<IPython.core.display.Image object>"
      ]
     },
     "execution_count": 23,
     "metadata": {},
     "output_type": "execute_result"
    }
   ],
   "source": [
    "plot_model(model = new_encoder_model, show_shapes= True, show_layer_names= True)"
   ]
  },
  {
   "cell_type": "code",
   "execution_count": 25,
   "metadata": {},
   "outputs": [],
   "source": [
    "output_dim = 128\n",
    "lstm_dim = 256\n",
    "dropout = 0.2\n",
    "batchsize = 32\n",
    "epochs = 30\n",
    "\n",
    "new_decoder_inputs = model.get_layer('decoder_input_layer').input\n",
    "\n",
    "new_decoder_embedding_layer = model.get_layer('decoder_embedding_layer')\n",
    "\n",
    "new_decoder_embeddings = new_decoder_embedding_layer(new_decoder_inputs)\n",
    "\n",
    "new_decoder_state_h = Input(shape = (lstm_dim,), name = 'new_decoder_state_h')\n",
    "new_decoder_state_c = Input(shape = (lstm_dim,), name = 'new_decoder_state_c')\n",
    "new_decoder_state = [new_decoder_state_h, new_decoder_state_c]\n",
    "\n",
    "new_decoder_lstm_layer = model.get_layer('decoder_lstm_layer')\n",
    "\n",
    "new_decoder_output, decoder_state_h, decoder_state_c = new_decoder_lstm_layer(new_decoder_embeddings, initial_state = new_decoder_state)\n",
    "\n",
    "new_decoder_final_states = [decoder_state_h, decoder_state_c]\n",
    "\n",
    "new_decoder_dense_layer = model.get_layer('decoder_dense_layer')\n",
    "\n",
    "new_decoder_prob_output = new_decoder_dense_layer(new_decoder_output)\n",
    "\n",
    "\n",
    "new_decoder_model = Model([new_decoder_inputs] + new_decoder_state,\n",
    "                          [new_decoder_prob_output] + new_decoder_final_states)\n"
   ]
  },
  {
   "cell_type": "code",
   "execution_count": 26,
   "metadata": {},
   "outputs": [
    {
     "data": {
      "image/png": "[encoded data removed]",
      "text/plain": [
       "<IPython.core.display.Image object>"
      ]
     },
     "execution_count": 26,
     "metadata": {},
     "output_type": "execute_result"
    }
   ],
   "source": [
    "plot_model(model = new_decoder_model, show_shapes = True, show_layer_names = True)"
   ]
  },
  {
   "cell_type": "code",
   "execution_count": 29,
   "metadata": {},
   "outputs": [],
   "source": [
    "def translation_without_attention(sentence: str, input_tokenizer, encoder, output_tokenizer, decoder, max_translation = 30):\n",
    "    \n",
    "    input_seqs = input_tokenizer.texts_to_sequences([sentence])\n",
    "    \n",
    "    states = encoder.predict(input_seqs)\n",
    "    \n",
    "    current_word = '<sos>'\n",
    "    decoded_sentence = []\n",
    "    \n",
    "    while len(decoded_sentence) < max_translation:\n",
    "        \n",
    "        target_seq = np.zeros(shape = (1,1))\n",
    "        target_seq[0, 0] = output_tokenizer.word_index[current_word]\n",
    "        target_word_probability , h, c = decoder.predict([target_seq] + states)\n",
    "        target_token_index = np.argmax(target_word_probability[0, -1, :])\n",
    "        current_word = output_tokenizer.index_word[target_token_index]\n",
    "        \n",
    "        if current_word == '<eos>':\n",
    "            break\n",
    "        decoded_sentence.append(current_word)\n",
    "        \n",
    "        states = [h, c]\n",
    "    \n",
    "    return ' '.join(decoded_sentence)\n",
    "            "
   ]
  },
  {
   "cell_type": "code",
   "execution_count": 30,
   "metadata": {},
   "outputs": [
    {
     "name": "stdout",
     "output_type": "stream",
     "text": [
      "['Csinálom.<sep>I got it.\\n', 'Mondd el nekem.<sep>Let me know.\\n', 'Ritkán járok oda.<sep>I rarely go there.\\n', \"Mi a döntésed?<sep>What's your decision?\\n\", \"Hol van a legközelebbi étterem?<sep>Where's the closest restaurant?\\n\", 'Mégis csak van egy megoldás.<sep>There is a solution though.\\n', 'Csak pár diák maradt az osztályteremben.<sep>There were few students left in the classroom.\\n', 'Nagyra értékelem a segítségedet ebben.<sep>I appreciate your help on this.\\n', 'Ez az utolsó vonat.<sep>This is the last train.\\n', 'Milyen gyakran jönnek a buszok?<sep>How often do buses come?\\n', \"A boldogság nem tart örökké.<sep>Happiness doesn't last forever.\\n\", \"Azért vagyok itt, hogy bocsánatot kérjek.<sep>I'm here to apologize.\\n\", \"Tom szörnyű szakács, ugye?<sep>Tom is a terrible cook, isn't he?\\n\", \"Gondolod, hogy ma esni fog?<sep>Do you think it'll rain today?\\n\", 'Tom ismeri a járást.<sep>Tom knows the way.\\n']\n"
     ]
    }
   ],
   "source": [
    "with open('hun_eng_test.txt', encoding = 'utf-8') as file:\n",
    "    sentences = [line for line in file]\n",
    "\n",
    "random.seed(1)\n",
    "sentences = random.sample(sentences, 15)\n",
    "print(sentences)"
   ]
  },
  {
   "cell_type": "code",
   "execution_count": 36,
   "metadata": {},
   "outputs": [],
   "source": [
    "def translate_sentences(sentences, translation_function, input_tokenizer, encoder, output_tokenizer, decoder):\n",
    "    translation_dict = {'Original Sentence': [], 'Human Translation': [], 'Machine Translation': []}\n",
    "    \n",
    "    for sent in sentences:\n",
    "        \n",
    "        source, target = sent.split('<sep>')\n",
    "        cleaned_source = text_preprocess(source)\n",
    "        eng_translation = translation_function(cleaned_source, input_tokenizer, encoder, output_tokenizer, decoder)\n",
    "        \n",
    "        translation_dict['Original Sentence'].append(source)\n",
    "        translation_dict['Human Translation'].append(target.rstrip())\n",
    "        translation_dict['Machine Translation'].append(eng_translation)\n",
    "        \n",
    "    df = pd.DataFrame(translation_dict)\n",
    "    \n",
    "    return df\n",
    "        "
   ]
  },
  {
   "cell_type": "code",
   "execution_count": 37,
   "metadata": {},
   "outputs": [
    {
     "name": "stdout",
     "output_type": "stream",
     "text": [
      "1/1 [==============================] - 0s 25ms/step\n",
      "1/1 [==============================] - 0s 14ms/step\n",
      "1/1 [==============================] - 0s 16ms/step\n",
      "1/1 [==============================] - 0s 16ms/step\n",
      "1/1 [==============================] - 0s 17ms/step\n",
      "1/1 [==============================] - 0s 14ms/step\n",
      "1/1 [==============================] - 0s 22ms/step\n",
      "1/1 [==============================] - 0s 16ms/step\n",
      "1/1 [==============================] - 0s 17ms/step\n",
      "1/1 [==============================] - 0s 13ms/step\n",
      "1/1 [==============================] - 0s 16ms/step\n",
      "1/1 [==============================] - 0s 28ms/step\n",
      "1/1 [==============================] - 0s 14ms/step\n",
      "1/1 [==============================] - 0s 18ms/step\n",
      "1/1 [==============================] - 0s 14ms/step\n",
      "1/1 [==============================] - 0s 17ms/step\n",
      "1/1 [==============================] - 0s 20ms/step\n",
      "1/1 [==============================] - 0s 13ms/step\n",
      "1/1 [==============================] - 0s 23ms/step\n",
      "1/1 [==============================] - 0s 12ms/step\n",
      "1/1 [==============================] - 0s 15ms/step\n",
      "1/1 [==============================] - 0s 10ms/step\n",
      "1/1 [==============================] - 0s 18ms/step\n",
      "1/1 [==============================] - 0s 16ms/step\n",
      "1/1 [==============================] - 0s 10ms/step\n",
      "1/1 [==============================] - 0s 24ms/step\n",
      "1/1 [==============================] - 0s 14ms/step\n",
      "1/1 [==============================] - 0s 15ms/step\n",
      "1/1 [==============================] - 0s 20ms/step\n",
      "1/1 [==============================] - 0s 14ms/step\n",
      "1/1 [==============================] - 0s 14ms/step\n",
      "1/1 [==============================] - 0s 13ms/step\n",
      "1/1 [==============================] - 0s 23ms/step\n",
      "1/1 [==============================] - 0s 12ms/step\n",
      "1/1 [==============================] - 0s 13ms/step\n",
      "1/1 [==============================] - 0s 13ms/step\n",
      "1/1 [==============================] - 0s 6ms/step\n",
      "1/1 [==============================] - 0s 12ms/step\n",
      "1/1 [==============================] - 0s 9ms/step\n",
      "1/1 [==============================] - 0s 13ms/step\n",
      "1/1 [==============================] - 0s 22ms/step\n",
      "1/1 [==============================] - 0s 12ms/step\n",
      "1/1 [==============================] - 0s 7ms/step\n",
      "1/1 [==============================] - 0s 13ms/step\n",
      "1/1 [==============================] - 0s 17ms/step\n",
      "1/1 [==============================] - 0s 12ms/step\n",
      "1/1 [==============================] - 0s 7ms/step\n",
      "1/1 [==============================] - 0s 12ms/step\n",
      "1/1 [==============================] - 0s 9ms/step\n",
      "1/1 [==============================] - 0s 12ms/step\n",
      "1/1 [==============================] - 0s 8ms/step\n",
      "1/1 [==============================] - 0s 14ms/step\n",
      "1/1 [==============================] - 0s 21ms/step\n",
      "1/1 [==============================] - 0s 7ms/step\n",
      "1/1 [==============================] - 0s 12ms/step\n",
      "1/1 [==============================] - 0s 8ms/step\n",
      "1/1 [==============================] - 0s 13ms/step\n",
      "1/1 [==============================] - 0s 12ms/step\n",
      "1/1 [==============================] - 0s 13ms/step\n",
      "1/1 [==============================] - 0s 22ms/step\n",
      "1/1 [==============================] - 0s 11ms/step\n",
      "1/1 [==============================] - 0s 7ms/step\n",
      "1/1 [==============================] - 0s 12ms/step\n",
      "1/1 [==============================] - 0s 13ms/step\n",
      "1/1 [==============================] - 0s 12ms/step\n",
      "1/1 [==============================] - 0s 14ms/step\n",
      "1/1 [==============================] - 0s 23ms/step\n",
      "1/1 [==============================] - 0s 12ms/step\n",
      "1/1 [==============================] - 0s 9ms/step\n",
      "1/1 [==============================] - 0s 14ms/step\n",
      "1/1 [==============================] - 0s 11ms/step\n",
      "1/1 [==============================] - 0s 8ms/step\n",
      "1/1 [==============================] - 0s 10ms/step\n",
      "1/1 [==============================] - 0s 13ms/step\n",
      "1/1 [==============================] - 0s 12ms/step\n",
      "1/1 [==============================] - 0s 20ms/step\n",
      "1/1 [==============================] - 0s 9ms/step\n",
      "1/1 [==============================] - 0s 12ms/step\n",
      "1/1 [==============================] - 0s 12ms/step\n",
      "1/1 [==============================] - 0s 7ms/step\n",
      "1/1 [==============================] - 0s 13ms/step\n",
      "1/1 [==============================] - 0s 12ms/step\n",
      "1/1 [==============================] - 0s 8ms/step\n",
      "1/1 [==============================] - 0s 17ms/step\n",
      "1/1 [==============================] - 0s 12ms/step\n",
      "1/1 [==============================] - 0s 9ms/step\n",
      "1/1 [==============================] - 0s 7ms/step\n",
      "1/1 [==============================] - 0s 19ms/step\n",
      "1/1 [==============================] - 0s 13ms/step\n",
      "1/1 [==============================] - 0s 13ms/step\n",
      "1/1 [==============================] - 0s 21ms/step\n",
      "1/1 [==============================] - 0s 14ms/step\n",
      "1/1 [==============================] - 0s 12ms/step\n",
      "1/1 [==============================] - 0s 9ms/step\n",
      "1/1 [==============================] - 0s 14ms/step\n",
      "1/1 [==============================] - 0s 12ms/step\n",
      "1/1 [==============================] - 0s 8ms/step\n",
      "1/1 [==============================] - 0s 14ms/step\n",
      "1/1 [==============================] - 0s 11ms/step\n",
      "1/1 [==============================] - 0s 7ms/step\n",
      "1/1 [==============================] - 0s 9ms/step\n",
      "1/1 [==============================] - 0s 17ms/step\n",
      "1/1 [==============================] - 0s 14ms/step\n",
      "1/1 [==============================] - 0s 12ms/step\n",
      "1/1 [==============================] - 0s 9ms/step\n",
      "1/1 [==============================] - 0s 14ms/step\n",
      "1/1 [==============================] - 0s 12ms/step\n",
      "1/1 [==============================] - 0s 9ms/step\n",
      "1/1 [==============================] - 0s 14ms/step\n",
      "1/1 [==============================] - 0s 8ms/step\n",
      "1/1 [==============================] - 0s 16ms/step\n",
      "1/1 [==============================] - 0s 12ms/step\n",
      "1/1 [==============================] - 0s 11ms/step\n",
      "1/1 [==============================] - 0s 13ms/step\n",
      "1/1 [==============================] - 0s 11ms/step\n",
      "1/1 [==============================] - 0s 8ms/step\n",
      "1/1 [==============================] - 0s 13ms/step\n"
     ]
    },
    {
     "data": {
      "text/html": [
       "<div>\n",
       "<style scoped>\n",
       "    .dataframe tbody tr th:only-of-type {\n",
       "        vertical-align: middle;\n",
       "    }\n",
       "\n",
       "    .dataframe tbody tr th {\n",
       "        vertical-align: top;\n",
       "    }\n",
       "\n",
       "    .dataframe thead th {\n",
       "        text-align: right;\n",
       "    }\n",
       "</style>\n",
       "<table border=\"1\" class=\"dataframe\">\n",
       "  <thead>\n",
       "    <tr style=\"text-align: right;\">\n",
       "      <th></th>\n",
       "      <th>Original Sentence</th>\n",
       "      <th>Human Translation</th>\n",
       "      <th>Machine Translation</th>\n",
       "    </tr>\n",
       "  </thead>\n",
       "  <tbody>\n",
       "    <tr>\n",
       "      <th>0</th>\n",
       "      <td>Csinálom.</td>\n",
       "      <td>I got it.</td>\n",
       "      <td>i'm doing it .</td>\n",
       "    </tr>\n",
       "    <tr>\n",
       "      <th>1</th>\n",
       "      <td>Mondd el nekem.</td>\n",
       "      <td>Let me know.</td>\n",
       "      <td>tell me .</td>\n",
       "    </tr>\n",
       "    <tr>\n",
       "      <th>2</th>\n",
       "      <td>Ritkán járok oda.</td>\n",
       "      <td>I rarely go there.</td>\n",
       "      <td>i rarely go there .</td>\n",
       "    </tr>\n",
       "    <tr>\n",
       "      <th>3</th>\n",
       "      <td>Mi a döntésed?</td>\n",
       "      <td>What's your decision?</td>\n",
       "      <td>what is your decision ?</td>\n",
       "    </tr>\n",
       "    <tr>\n",
       "      <th>4</th>\n",
       "      <td>Hol van a legközelebbi étterem?</td>\n",
       "      <td>Where's the closest restaurant?</td>\n",
       "      <td>where's the nearest restaurant ?</td>\n",
       "    </tr>\n",
       "    <tr>\n",
       "      <th>5</th>\n",
       "      <td>Mégis csak van egy megoldás.</td>\n",
       "      <td>There is a solution though.</td>\n",
       "      <td>there is just a solution .</td>\n",
       "    </tr>\n",
       "    <tr>\n",
       "      <th>6</th>\n",
       "      <td>Csak pár diák maradt az osztályteremben.</td>\n",
       "      <td>There were few students left in the classroom.</td>\n",
       "      <td>we only have a few friends in the classroom .</td>\n",
       "    </tr>\n",
       "    <tr>\n",
       "      <th>7</th>\n",
       "      <td>Nagyra értékelem a segítségedet ebben.</td>\n",
       "      <td>I appreciate your help on this.</td>\n",
       "      <td>i appreciate your help .</td>\n",
       "    </tr>\n",
       "    <tr>\n",
       "      <th>8</th>\n",
       "      <td>Ez az utolsó vonat.</td>\n",
       "      <td>This is the last train.</td>\n",
       "      <td>this train is last .</td>\n",
       "    </tr>\n",
       "    <tr>\n",
       "      <th>9</th>\n",
       "      <td>Milyen gyakran jönnek a buszok?</td>\n",
       "      <td>How often do buses come?</td>\n",
       "      <td>how often do the buses come ?</td>\n",
       "    </tr>\n",
       "    <tr>\n",
       "      <th>10</th>\n",
       "      <td>A boldogság nem tart örökké.</td>\n",
       "      <td>Happiness doesn't last forever.</td>\n",
       "      <td>the government won't be forgotten .</td>\n",
       "    </tr>\n",
       "    <tr>\n",
       "      <th>11</th>\n",
       "      <td>Azért vagyok itt, hogy bocsánatot kérjek.</td>\n",
       "      <td>I'm here to apologize.</td>\n",
       "      <td>i'm here to apologize .</td>\n",
       "    </tr>\n",
       "    <tr>\n",
       "      <th>12</th>\n",
       "      <td>Tom szörnyű szakács, ugye?</td>\n",
       "      <td>Tom is a terrible cook, isn't he?</td>\n",
       "      <td>tom is a terrible student , isn't he ?</td>\n",
       "    </tr>\n",
       "    <tr>\n",
       "      <th>13</th>\n",
       "      <td>Gondolod, hogy ma esni fog?</td>\n",
       "      <td>Do you think it'll rain today?</td>\n",
       "      <td>do you think it'll rain today ?</td>\n",
       "    </tr>\n",
       "    <tr>\n",
       "      <th>14</th>\n",
       "      <td>Tom ismeri a járást.</td>\n",
       "      <td>Tom knows the way.</td>\n",
       "      <td>tom knows the risks .</td>\n",
       "    </tr>\n",
       "  </tbody>\n",
       "</table>\n",
       "</div>"
      ],
      "text/plain": [
       "                            Original Sentence  \\\n",
       "0                                   Csinálom.   \n",
       "1                             Mondd el nekem.   \n",
       "2                           Ritkán járok oda.   \n",
       "3                              Mi a döntésed?   \n",
       "4             Hol van a legközelebbi étterem?   \n",
       "5                Mégis csak van egy megoldás.   \n",
       "6    Csak pár diák maradt az osztályteremben.   \n",
       "7      Nagyra értékelem a segítségedet ebben.   \n",
       "8                         Ez az utolsó vonat.   \n",
       "9             Milyen gyakran jönnek a buszok?   \n",
       "10               A boldogság nem tart örökké.   \n",
       "11  Azért vagyok itt, hogy bocsánatot kérjek.   \n",
       "12                 Tom szörnyű szakács, ugye?   \n",
       "13                Gondolod, hogy ma esni fog?   \n",
       "14                       Tom ismeri a járást.   \n",
       "\n",
       "                                 Human Translation  \\\n",
       "0                                        I got it.   \n",
       "1                                     Let me know.   \n",
       "2                               I rarely go there.   \n",
       "3                            What's your decision?   \n",
       "4                  Where's the closest restaurant?   \n",
       "5                      There is a solution though.   \n",
       "6   There were few students left in the classroom.   \n",
       "7                  I appreciate your help on this.   \n",
       "8                          This is the last train.   \n",
       "9                         How often do buses come?   \n",
       "10                 Happiness doesn't last forever.   \n",
       "11                          I'm here to apologize.   \n",
       "12               Tom is a terrible cook, isn't he?   \n",
       "13                  Do you think it'll rain today?   \n",
       "14                              Tom knows the way.   \n",
       "\n",
       "                              Machine Translation  \n",
       "0                                  i'm doing it .  \n",
       "1                                       tell me .  \n",
       "2                             i rarely go there .  \n",
       "3                         what is your decision ?  \n",
       "4                where's the nearest restaurant ?  \n",
       "5                      there is just a solution .  \n",
       "6   we only have a few friends in the classroom .  \n",
       "7                        i appreciate your help .  \n",
       "8                            this train is last .  \n",
       "9                   how often do the buses come ?  \n",
       "10            the government won't be forgotten .  \n",
       "11                        i'm here to apologize .  \n",
       "12         tom is a terrible student , isn't he ?  \n",
       "13                do you think it'll rain today ?  \n",
       "14                          tom knows the risks .  "
      ]
     },
     "execution_count": 37,
     "metadata": {},
     "output_type": "execute_result"
    }
   ],
   "source": [
    "df = translate_sentences(sentences, translation_without_attention, hun_tokenizer, new_encoder_model, eng_tokenizer, new_decoder_model)\n",
    "df"
   ]
  },
  {
   "cell_type": "code",
   "execution_count": null,
   "metadata": {},
   "outputs": [],
   "source": []
  }
 ],
 "metadata": {
  "kernelspec": {
   "display_name": "Python 3",
   "language": "python",
   "name": "python3"
  },
  "language_info": {
   "codemirror_mode": {
    "name": "ipython",
    "version": 3
   },
   "file_extension": ".py",
   "mimetype": "text/x-python",
   "name": "python",
   "nbconvert_exporter": "python",
   "pygments_lexer": "ipython3",
   "version": "3.11.6"
  }
 },
 "nbformat": 4,
 "nbformat_minor": 2
}
